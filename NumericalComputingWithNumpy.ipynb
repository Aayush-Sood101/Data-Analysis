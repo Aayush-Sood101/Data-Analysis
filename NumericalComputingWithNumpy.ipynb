{
 "cells": [
  {
   "cell_type": "markdown",
   "id": "9f87b811-d3fd-44ca-b733-6ca94aa17f00",
   "metadata": {},
   "source": [
    "## Usage of zip function"
   ]
  },
  {
   "cell_type": "code",
   "execution_count": 1,
   "id": "5db2b7be-04b9-4392-9d9d-be3a17fb1c51",
   "metadata": {},
   "outputs": [
    {
     "data": {
      "text/plain": [
       "28"
      ]
     },
     "execution_count": 1,
     "metadata": {},
     "output_type": "execute_result"
    }
   ],
   "source": [
    "L1 = [1,2,3]\n",
    "L2 = [2,4,6]\n",
    "result = 0\n",
    "for item in zip(L1 , L2):\n",
    "    #dot product\n",
    "    result += item[0] * item[1]\n",
    "result"
   ]
  },
  {
   "cell_type": "markdown",
   "id": "5fd2e522-308e-4f19-b420-ff83a41d0a9b",
   "metadata": {},
   "source": [
    "# Numpy"
   ]
  },
  {
   "cell_type": "code",
   "execution_count": 2,
   "id": "28d5cd47-6603-42c4-b52e-531f91c85db9",
   "metadata": {},
   "outputs": [
    {
     "name": "stdout",
     "output_type": "stream",
     "text": [
      "Requirement already satisfied: numpy in c:\\users\\aayush sood\\anaconda3\\lib\\site-packages (1.26.4)\n"
     ]
    }
   ],
   "source": [
    "!pip install numpy"
   ]
  },
  {
   "cell_type": "code",
   "execution_count": 3,
   "id": "d20602b4-c8e5-4223-8853-a89dc1cf46b4",
   "metadata": {},
   "outputs": [],
   "source": [
    "import numpy as np"
   ]
  },
  {
   "cell_type": "code",
   "execution_count": 4,
   "id": "c4f4f702-dad8-4da1-9b0f-c6494def2b48",
   "metadata": {},
   "outputs": [],
   "source": [
    "kanto = np.array([73 , 67 , 43])"
   ]
  },
  {
   "cell_type": "code",
   "execution_count": 5,
   "id": "b3af00b2-7b09-448e-a9bb-dba6afaf1c12",
   "metadata": {},
   "outputs": [
    {
     "data": {
      "text/plain": [
       "array([73, 67, 43])"
      ]
     },
     "execution_count": 5,
     "metadata": {},
     "output_type": "execute_result"
    }
   ],
   "source": [
    "kanto"
   ]
  },
  {
   "cell_type": "code",
   "execution_count": 6,
   "id": "6292a4cb-6ed3-48f2-a79b-e3dda88fbea7",
   "metadata": {},
   "outputs": [],
   "source": [
    "w1 , w2 , w3 = 0.8 , 0.4 , 0.3"
   ]
  },
  {
   "cell_type": "code",
   "execution_count": 7,
   "id": "e9f4be11-40ee-4b9c-a932-baa056e562b0",
   "metadata": {},
   "outputs": [],
   "source": [
    "weights = np.array([w1 , w2 , w3])"
   ]
  },
  {
   "cell_type": "code",
   "execution_count": 8,
   "id": "5c34b2ce-db19-436b-8854-c9ae1a830a5b",
   "metadata": {},
   "outputs": [
    {
     "data": {
      "text/plain": [
       "array([0.8, 0.4, 0.3])"
      ]
     },
     "execution_count": 8,
     "metadata": {},
     "output_type": "execute_result"
    }
   ],
   "source": [
    "weights"
   ]
  },
  {
   "cell_type": "code",
   "execution_count": 9,
   "id": "6781ffb6-3e26-49a8-9c69-8bc23b2303bd",
   "metadata": {},
   "outputs": [
    {
     "data": {
      "text/plain": [
       "73"
      ]
     },
     "execution_count": 9,
     "metadata": {},
     "output_type": "execute_result"
    }
   ],
   "source": [
    "kanto[0]"
   ]
  },
  {
   "cell_type": "code",
   "execution_count": 10,
   "id": "b2e42445-cb40-4713-a599-3a6b8a550166",
   "metadata": {},
   "outputs": [
    {
     "data": {
      "text/plain": [
       "0.3"
      ]
     },
     "execution_count": 10,
     "metadata": {},
     "output_type": "execute_result"
    }
   ],
   "source": [
    "weights[2]"
   ]
  },
  {
   "cell_type": "markdown",
   "id": "442246b1-10f3-4e7f-b2f7-a66e4baf76ca",
   "metadata": {},
   "source": [
    "## Operations on Numpy Arrays"
   ]
  },
  {
   "cell_type": "code",
   "execution_count": 11,
   "id": "d7228c12-e41e-428c-8f6f-767947234542",
   "metadata": {},
   "outputs": [
    {
     "data": {
      "text/plain": [
       "array([58.4, 26.8, 12.9])"
      ]
     },
     "execution_count": 11,
     "metadata": {},
     "output_type": "execute_result"
    }
   ],
   "source": [
    "kanto * weights"
   ]
  },
  {
   "cell_type": "code",
   "execution_count": 12,
   "id": "9e3d109e-a73e-4cb3-b315-9f2c8467bf56",
   "metadata": {},
   "outputs": [
    {
     "data": {
      "text/plain": [
       "98.10000000000001"
      ]
     },
     "execution_count": 12,
     "metadata": {},
     "output_type": "execute_result"
    }
   ],
   "source": [
    "(kanto * weights).sum()"
   ]
  },
  {
   "cell_type": "code",
   "execution_count": 13,
   "id": "17f95c7b-f903-4ec8-984f-19169cb80b60",
   "metadata": {},
   "outputs": [
    {
     "data": {
      "text/plain": [
       "98.10000000000001"
      ]
     },
     "execution_count": 13,
     "metadata": {},
     "output_type": "execute_result"
    }
   ],
   "source": [
    "np.dot(kanto , weights)"
   ]
  },
  {
   "cell_type": "markdown",
   "id": "73b748ce-f35b-4694-bbd5-d644e388a7a2",
   "metadata": {},
   "source": [
    "#### Reasons to Use\n",
    "\n",
    "##### Ease of Use: Write small and intutive codes which is not possible in python\n",
    "##### Performance: Numpy operations and functions are implemented in C++"
   ]
  },
  {
   "cell_type": "code",
   "execution_count": 14,
   "id": "2e134df6-e55c-4df8-b0ba-6a2a665c6e57",
   "metadata": {},
   "outputs": [],
   "source": [
    "climate_data = np.array([\n",
    "    [73 , 67 , 43] ,\n",
    "    [73 , 67 , 43] ,\n",
    "    [73 , 67 , 43] ,\n",
    "    [73 , 67 , 43] ,\n",
    "    [73 , 67 , 43]\n",
    "])"
   ]
  },
  {
   "cell_type": "code",
   "execution_count": 15,
   "id": "a22d0c6d-8862-4705-87a2-8239ddc4e00a",
   "metadata": {},
   "outputs": [
    {
     "data": {
      "text/plain": [
       "(5, 3)"
      ]
     },
     "execution_count": 15,
     "metadata": {},
     "output_type": "execute_result"
    }
   ],
   "source": [
    "climate_data.shape"
   ]
  },
  {
   "cell_type": "code",
   "execution_count": 16,
   "id": "f7694a18-68cb-4951-976b-64c55fffb466",
   "metadata": {},
   "outputs": [
    {
     "data": {
      "text/plain": [
       "dtype('int32')"
      ]
     },
     "execution_count": 16,
     "metadata": {},
     "output_type": "execute_result"
    }
   ],
   "source": [
    "climate_data.dtype"
   ]
  },
  {
   "cell_type": "code",
   "execution_count": 17,
   "id": "69cedb27-ac07-441c-a57b-2ac33fbacb0b",
   "metadata": {},
   "outputs": [
    {
     "data": {
      "text/plain": [
       "dtype('float64')"
      ]
     },
     "execution_count": 17,
     "metadata": {},
     "output_type": "execute_result"
    }
   ],
   "source": [
    "weights.dtype"
   ]
  },
  {
   "cell_type": "code",
   "execution_count": 18,
   "id": "997cfa33-9f39-4c4c-a0e6-4af9374dc084",
   "metadata": {},
   "outputs": [
    {
     "data": {
      "text/plain": [
       "array([98.1, 98.1, 98.1, 98.1, 98.1])"
      ]
     },
     "execution_count": 18,
     "metadata": {},
     "output_type": "execute_result"
    }
   ],
   "source": [
    "np.matmul(climate_data , weights)"
   ]
  },
  {
   "cell_type": "code",
   "execution_count": 19,
   "id": "dc577bc7-43cf-4d7a-bd3b-a586ccd0eedc",
   "metadata": {},
   "outputs": [
    {
     "data": {
      "text/plain": [
       "array([98.1, 98.1, 98.1, 98.1, 98.1])"
      ]
     },
     "execution_count": 19,
     "metadata": {},
     "output_type": "execute_result"
    }
   ],
   "source": [
    "#same as matrix multiplication\n",
    "climate_data @ weights"
   ]
  },
  {
   "cell_type": "markdown",
   "id": "20473c23-ec78-42b8-ae2d-8aa57542f57c",
   "metadata": {},
   "source": [
    "## Working with CSV Data Files"
   ]
  },
  {
   "cell_type": "code",
   "execution_count": 20,
   "id": "f14c66c2-b859-4e7e-9e6e-599260d66287",
   "metadata": {},
   "outputs": [],
   "source": [
    "climate_data = np.genfromtxt('C:\\\\Users\\\\AAYUSH SOOD\\\\Desktop\\\\Coding\\\\Data Analysis\\\\climate.txt', delimiter=',', skip_header=1)"
   ]
  },
  {
   "cell_type": "code",
   "execution_count": 21,
   "id": "f5d246ad-0b9b-4f29-b3c9-0bbccf6a14ad",
   "metadata": {},
   "outputs": [
    {
     "data": {
      "text/plain": [
       "array([[ 36.4,  31.2,   2. ],\n",
       "       [ 27.4,  65.1,   5.5],\n",
       "       [ 35.7,  74.9,   3.3],\n",
       "       [ -0.2,  22.7,   8.8],\n",
       "       [ 20.6,  71.3,   4.1],\n",
       "       [ -4.3,  38.8,   1.1],\n",
       "       [ -6.3,  98.9,   1.1],\n",
       "       [ 26.6,  21.8,   5. ],\n",
       "       [ 22.3,  28.9,   2.2],\n",
       "       [ -8.9,  25.6,   3.7],\n",
       "       [ 28.9,  40.5,   1.1],\n",
       "       [ 28.2,  99.2,  17.2],\n",
       "       [ 17.7,  81.5,   3.8],\n",
       "       [ 32.6,  45.5,  10. ],\n",
       "       [  6.5,  89.3,   3.6],\n",
       "       [ -3. ,  45. ,   1.2],\n",
       "       [ 12.7,  56.5,   6.6],\n",
       "       [ 28.7,  69.2,   4.1],\n",
       "       [ 13.3,  53.1,   2.9],\n",
       "       [ 33.2,  40.4,   3.1],\n",
       "       [ 12.8,  95. ,   2.3],\n",
       "       [ -6.1,  41.8,  36.3],\n",
       "       [  8.3,  23.5,   4.1],\n",
       "       [ 34.7,  92.6,   4.7],\n",
       "       [ 28.8,  58.5,   3.2],\n",
       "       [ -7.5,  40.7,   4.3],\n",
       "       [ 20.1,  78.8,   3.9],\n",
       "       [ -6.4,  85.4,   2.4],\n",
       "       [ 31.1,  22.2,   0.6],\n",
       "       [ 30.2,  62.5,   4.9],\n",
       "       [ -5. ,  22.4,  15.8],\n",
       "       [ 18.9,  83.4,   0.4],\n",
       "       [ 37.7,  24. ,   2.5],\n",
       "       [ 26.9,  60.2,   1. ],\n",
       "       [ 39.6,  22. ,   4.2],\n",
       "       [ -3. ,  33.5,   3.6],\n",
       "       [ -7.1,  86.8,  17.5],\n",
       "       [ 18. ,  42.8,   1.7],\n",
       "       [ 33.7,  46.4,  17.1],\n",
       "       [ 28.7,  74.1,   2.3],\n",
       "       [ 16.8,  53.2,   4.6],\n",
       "       [ 18.8,  52.5,  13.6],\n",
       "       [ -0.6,  60.8,  49.6],\n",
       "       [ -3.8,  90.1,   9.5],\n",
       "       [ 35.2,  96.3,   4.6],\n",
       "       [ -9.9,  88. ,   5.2],\n",
       "       [ 34. ,  96. ,  13.5],\n",
       "       [ 27.2,  55.5,  17. ],\n",
       "       [ -1.5,  34.9,   3.8],\n",
       "       [ 37.9,  38.1,  17.8],\n",
       "       [ -6. ,  20.1,   0.5],\n",
       "       [ 30.7,  58.5,  18.5],\n",
       "       [ 39.5, 100. ,   3.2],\n",
       "       [  6.3,  80.7,   3.7],\n",
       "       [ 29.3,  70.2,   2. ],\n",
       "       [ 20.3,  65.6,  16.7],\n",
       "       [ 31. ,  36.3,   2. ],\n",
       "       [  3.4,  88. ,   8.1],\n",
       "       [ -8.2,  23. ,  14.1],\n",
       "       [  0.2,  61.8,  19.5],\n",
       "       [ -2.9,  25.9,  15.4],\n",
       "       [ 14.5,  64.7,   0.8],\n",
       "       [ 39.3,  70.9,   2.9],\n",
       "       [ 35.8,  58.8,  19.1],\n",
       "       [ 17.2,  45. ,  11.8],\n",
       "       [ 36. ,  99.6,   0. ],\n",
       "       [ -0.5,  90.7,   3.6],\n",
       "       [ 23.5,  39.7,   3.5],\n",
       "       [ -1.4,  65.6,   4.8],\n",
       "       [ -7.3,  39.6,   3.6],\n",
       "       [ -3.2,  52.9,   2.7],\n",
       "       [ 29.2,  78.3,   0.8],\n",
       "       [ 10.5,  60.6,   0.6],\n",
       "       [  9.2,  71.5,   4.9],\n",
       "       [ 29.1,  34.9,   3.9],\n",
       "       [  9. ,  93.4,  14.9],\n",
       "       [ 34.9,  47.4,   0.1],\n",
       "       [  9.5,  68.5,   2.7],\n",
       "       [ 37.7,  24.8,   1.5],\n",
       "       [ 11.3,  56.8,   4. ],\n",
       "       [ -0.5,  78. ,   0.4],\n",
       "       [ 13.2,  43.3,  20.2],\n",
       "       [ 31.1,  23.9,   7.4],\n",
       "       [ -4.2,  75.5,   3.6],\n",
       "       [ 19.5,  88.4,   1.1],\n",
       "       [ 37.7,  75.1,   1.4],\n",
       "       [ -4.1,  90.6,  10.3],\n",
       "       [ 22. ,  44.8,   2.7],\n",
       "       [ 32. ,  61.1,   2.6],\n",
       "       [ -9.4,  91.6,  13.3],\n",
       "       [ -1.8,  29.3,   4.5],\n",
       "       [  8.8,  60.4,  16.1],\n",
       "       [ -7.7,  69.7,   4.4],\n",
       "       [ 11.4,  48.1,  14.5],\n",
       "       [ 22.8,  26.1,   3.9],\n",
       "       [ 15.6,  97. ,   3.4],\n",
       "       [ 15.8,  94.6,   0.4],\n",
       "       [ 34.5,  53.1,  12. ],\n",
       "       [ -4.2,  54.1,   0.7],\n",
       "       [ 14. ,  77.7,   5. ]])"
      ]
     },
     "execution_count": 21,
     "metadata": {},
     "output_type": "execute_result"
    }
   ],
   "source": [
    "climate_data"
   ]
  },
  {
   "cell_type": "code",
   "execution_count": 22,
   "id": "de34c558-6e17-49e4-953c-317dfb6eee4b",
   "metadata": {},
   "outputs": [
    {
     "data": {
      "text/plain": [
       "(100, 3)"
      ]
     },
     "execution_count": 22,
     "metadata": {},
     "output_type": "execute_result"
    }
   ],
   "source": [
    "climate_data.shape"
   ]
  },
  {
   "cell_type": "code",
   "execution_count": 23,
   "id": "2baa17aa-f583-4291-b038-d56f37585f7d",
   "metadata": {},
   "outputs": [],
   "source": [
    "weights = np.array([0.8 , 0.3 , 0.5])"
   ]
  },
  {
   "cell_type": "code",
   "execution_count": 24,
   "id": "953ebd98-51b7-4399-945a-c7d6a3846d81",
   "metadata": {},
   "outputs": [],
   "source": [
    "yields = np.matmul(climate_data , weights)"
   ]
  },
  {
   "cell_type": "code",
   "execution_count": 25,
   "id": "984fae30-0dc8-4e05-928b-87213e124497",
   "metadata": {},
   "outputs": [
    {
     "data": {
      "text/plain": [
       "array([39.48, 44.2 , 52.68, 11.05, 39.92,  8.75, 25.18, 30.32, 27.61,\n",
       "        2.41, 35.82, 60.92, 40.51, 44.73, 33.79, 11.7 , 30.41, 45.77,\n",
       "       28.02, 40.23, 39.89, 25.81, 15.74, 57.89, 42.19,  8.36, 41.67,\n",
       "       21.7 , 31.84, 45.36, 10.62, 40.34, 38.61, 40.08, 40.38,  9.45,\n",
       "       29.11, 28.09, 49.43, 46.34, 31.7 , 37.59, 42.56, 28.74, 59.35,\n",
       "       21.08, 62.75, 46.91, 11.17, 50.65,  1.48, 51.36, 63.2 , 31.1 ,\n",
       "       45.5 , 44.27, 36.69, 33.17,  7.39, 28.45, 13.15, 31.41, 54.16,\n",
       "       55.83, 33.16, 58.68, 28.61, 32.46, 20.96,  7.84, 14.66, 47.25,\n",
       "       26.88, 31.26, 35.7 , 42.67, 42.19, 29.5 , 38.35, 28.08, 23.2 ,\n",
       "       33.65, 35.75, 21.09, 42.67, 53.39, 29.05, 32.39, 45.23, 26.61,\n",
       "        9.6 , 33.21, 16.95, 30.8 , 28.02, 43.28, 41.22, 49.53, 13.22,\n",
       "       37.01])"
      ]
     },
     "execution_count": 25,
     "metadata": {},
     "output_type": "execute_result"
    }
   ],
   "source": [
    "yields"
   ]
  },
  {
   "cell_type": "code",
   "execution_count": 26,
   "id": "32ae7e45-91d3-419b-b75f-60614e9eea81",
   "metadata": {},
   "outputs": [
    {
     "data": {
      "text/plain": [
       "(100,)"
      ]
     },
     "execution_count": 26,
     "metadata": {},
     "output_type": "execute_result"
    }
   ],
   "source": [
    "yields.shape"
   ]
  },
  {
   "cell_type": "code",
   "execution_count": 27,
   "id": "066ed5ec-9217-4c85-a406-ba2a934c3502",
   "metadata": {},
   "outputs": [],
   "source": [
    "climate_results = np.concatenate((climate_data , yields.reshape(100 ,1)) , axis = 1)"
   ]
  },
  {
   "cell_type": "code",
   "execution_count": 28,
   "id": "65a894d5-f76e-4af1-a085-4cb11e9b95df",
   "metadata": {},
   "outputs": [
    {
     "data": {
      "text/plain": [
       "array([[ 36.4 ,  31.2 ,   2.  ,  39.48],\n",
       "       [ 27.4 ,  65.1 ,   5.5 ,  44.2 ],\n",
       "       [ 35.7 ,  74.9 ,   3.3 ,  52.68],\n",
       "       [ -0.2 ,  22.7 ,   8.8 ,  11.05],\n",
       "       [ 20.6 ,  71.3 ,   4.1 ,  39.92],\n",
       "       [ -4.3 ,  38.8 ,   1.1 ,   8.75],\n",
       "       [ -6.3 ,  98.9 ,   1.1 ,  25.18],\n",
       "       [ 26.6 ,  21.8 ,   5.  ,  30.32],\n",
       "       [ 22.3 ,  28.9 ,   2.2 ,  27.61],\n",
       "       [ -8.9 ,  25.6 ,   3.7 ,   2.41],\n",
       "       [ 28.9 ,  40.5 ,   1.1 ,  35.82],\n",
       "       [ 28.2 ,  99.2 ,  17.2 ,  60.92],\n",
       "       [ 17.7 ,  81.5 ,   3.8 ,  40.51],\n",
       "       [ 32.6 ,  45.5 ,  10.  ,  44.73],\n",
       "       [  6.5 ,  89.3 ,   3.6 ,  33.79],\n",
       "       [ -3.  ,  45.  ,   1.2 ,  11.7 ],\n",
       "       [ 12.7 ,  56.5 ,   6.6 ,  30.41],\n",
       "       [ 28.7 ,  69.2 ,   4.1 ,  45.77],\n",
       "       [ 13.3 ,  53.1 ,   2.9 ,  28.02],\n",
       "       [ 33.2 ,  40.4 ,   3.1 ,  40.23],\n",
       "       [ 12.8 ,  95.  ,   2.3 ,  39.89],\n",
       "       [ -6.1 ,  41.8 ,  36.3 ,  25.81],\n",
       "       [  8.3 ,  23.5 ,   4.1 ,  15.74],\n",
       "       [ 34.7 ,  92.6 ,   4.7 ,  57.89],\n",
       "       [ 28.8 ,  58.5 ,   3.2 ,  42.19],\n",
       "       [ -7.5 ,  40.7 ,   4.3 ,   8.36],\n",
       "       [ 20.1 ,  78.8 ,   3.9 ,  41.67],\n",
       "       [ -6.4 ,  85.4 ,   2.4 ,  21.7 ],\n",
       "       [ 31.1 ,  22.2 ,   0.6 ,  31.84],\n",
       "       [ 30.2 ,  62.5 ,   4.9 ,  45.36],\n",
       "       [ -5.  ,  22.4 ,  15.8 ,  10.62],\n",
       "       [ 18.9 ,  83.4 ,   0.4 ,  40.34],\n",
       "       [ 37.7 ,  24.  ,   2.5 ,  38.61],\n",
       "       [ 26.9 ,  60.2 ,   1.  ,  40.08],\n",
       "       [ 39.6 ,  22.  ,   4.2 ,  40.38],\n",
       "       [ -3.  ,  33.5 ,   3.6 ,   9.45],\n",
       "       [ -7.1 ,  86.8 ,  17.5 ,  29.11],\n",
       "       [ 18.  ,  42.8 ,   1.7 ,  28.09],\n",
       "       [ 33.7 ,  46.4 ,  17.1 ,  49.43],\n",
       "       [ 28.7 ,  74.1 ,   2.3 ,  46.34],\n",
       "       [ 16.8 ,  53.2 ,   4.6 ,  31.7 ],\n",
       "       [ 18.8 ,  52.5 ,  13.6 ,  37.59],\n",
       "       [ -0.6 ,  60.8 ,  49.6 ,  42.56],\n",
       "       [ -3.8 ,  90.1 ,   9.5 ,  28.74],\n",
       "       [ 35.2 ,  96.3 ,   4.6 ,  59.35],\n",
       "       [ -9.9 ,  88.  ,   5.2 ,  21.08],\n",
       "       [ 34.  ,  96.  ,  13.5 ,  62.75],\n",
       "       [ 27.2 ,  55.5 ,  17.  ,  46.91],\n",
       "       [ -1.5 ,  34.9 ,   3.8 ,  11.17],\n",
       "       [ 37.9 ,  38.1 ,  17.8 ,  50.65],\n",
       "       [ -6.  ,  20.1 ,   0.5 ,   1.48],\n",
       "       [ 30.7 ,  58.5 ,  18.5 ,  51.36],\n",
       "       [ 39.5 , 100.  ,   3.2 ,  63.2 ],\n",
       "       [  6.3 ,  80.7 ,   3.7 ,  31.1 ],\n",
       "       [ 29.3 ,  70.2 ,   2.  ,  45.5 ],\n",
       "       [ 20.3 ,  65.6 ,  16.7 ,  44.27],\n",
       "       [ 31.  ,  36.3 ,   2.  ,  36.69],\n",
       "       [  3.4 ,  88.  ,   8.1 ,  33.17],\n",
       "       [ -8.2 ,  23.  ,  14.1 ,   7.39],\n",
       "       [  0.2 ,  61.8 ,  19.5 ,  28.45],\n",
       "       [ -2.9 ,  25.9 ,  15.4 ,  13.15],\n",
       "       [ 14.5 ,  64.7 ,   0.8 ,  31.41],\n",
       "       [ 39.3 ,  70.9 ,   2.9 ,  54.16],\n",
       "       [ 35.8 ,  58.8 ,  19.1 ,  55.83],\n",
       "       [ 17.2 ,  45.  ,  11.8 ,  33.16],\n",
       "       [ 36.  ,  99.6 ,   0.  ,  58.68],\n",
       "       [ -0.5 ,  90.7 ,   3.6 ,  28.61],\n",
       "       [ 23.5 ,  39.7 ,   3.5 ,  32.46],\n",
       "       [ -1.4 ,  65.6 ,   4.8 ,  20.96],\n",
       "       [ -7.3 ,  39.6 ,   3.6 ,   7.84],\n",
       "       [ -3.2 ,  52.9 ,   2.7 ,  14.66],\n",
       "       [ 29.2 ,  78.3 ,   0.8 ,  47.25],\n",
       "       [ 10.5 ,  60.6 ,   0.6 ,  26.88],\n",
       "       [  9.2 ,  71.5 ,   4.9 ,  31.26],\n",
       "       [ 29.1 ,  34.9 ,   3.9 ,  35.7 ],\n",
       "       [  9.  ,  93.4 ,  14.9 ,  42.67],\n",
       "       [ 34.9 ,  47.4 ,   0.1 ,  42.19],\n",
       "       [  9.5 ,  68.5 ,   2.7 ,  29.5 ],\n",
       "       [ 37.7 ,  24.8 ,   1.5 ,  38.35],\n",
       "       [ 11.3 ,  56.8 ,   4.  ,  28.08],\n",
       "       [ -0.5 ,  78.  ,   0.4 ,  23.2 ],\n",
       "       [ 13.2 ,  43.3 ,  20.2 ,  33.65],\n",
       "       [ 31.1 ,  23.9 ,   7.4 ,  35.75],\n",
       "       [ -4.2 ,  75.5 ,   3.6 ,  21.09],\n",
       "       [ 19.5 ,  88.4 ,   1.1 ,  42.67],\n",
       "       [ 37.7 ,  75.1 ,   1.4 ,  53.39],\n",
       "       [ -4.1 ,  90.6 ,  10.3 ,  29.05],\n",
       "       [ 22.  ,  44.8 ,   2.7 ,  32.39],\n",
       "       [ 32.  ,  61.1 ,   2.6 ,  45.23],\n",
       "       [ -9.4 ,  91.6 ,  13.3 ,  26.61],\n",
       "       [ -1.8 ,  29.3 ,   4.5 ,   9.6 ],\n",
       "       [  8.8 ,  60.4 ,  16.1 ,  33.21],\n",
       "       [ -7.7 ,  69.7 ,   4.4 ,  16.95],\n",
       "       [ 11.4 ,  48.1 ,  14.5 ,  30.8 ],\n",
       "       [ 22.8 ,  26.1 ,   3.9 ,  28.02],\n",
       "       [ 15.6 ,  97.  ,   3.4 ,  43.28],\n",
       "       [ 15.8 ,  94.6 ,   0.4 ,  41.22],\n",
       "       [ 34.5 ,  53.1 ,  12.  ,  49.53],\n",
       "       [ -4.2 ,  54.1 ,   0.7 ,  13.22],\n",
       "       [ 14.  ,  77.7 ,   5.  ,  37.01]])"
      ]
     },
     "execution_count": 28,
     "metadata": {},
     "output_type": "execute_result"
    }
   ],
   "source": [
    "climate_results"
   ]
  },
  {
   "cell_type": "code",
   "execution_count": 29,
   "id": "aadf1f0f-1467-4c6f-a0f9-2b9c025202ac",
   "metadata": {},
   "outputs": [
    {
     "data": {
      "text/plain": [
       "\u001b[1;31mSignature:\u001b[0m      \n",
       "\u001b[0mnp\u001b[0m\u001b[1;33m.\u001b[0m\u001b[0msavetxt\u001b[0m\u001b[1;33m(\u001b[0m\u001b[1;33m\n",
       "\u001b[0m    \u001b[0mfname\u001b[0m\u001b[1;33m,\u001b[0m\u001b[1;33m\n",
       "\u001b[0m    \u001b[0mX\u001b[0m\u001b[1;33m,\u001b[0m\u001b[1;33m\n",
       "\u001b[0m    \u001b[0mfmt\u001b[0m\u001b[1;33m=\u001b[0m\u001b[1;34m'%.18e'\u001b[0m\u001b[1;33m,\u001b[0m\u001b[1;33m\n",
       "\u001b[0m    \u001b[0mdelimiter\u001b[0m\u001b[1;33m=\u001b[0m\u001b[1;34m' '\u001b[0m\u001b[1;33m,\u001b[0m\u001b[1;33m\n",
       "\u001b[0m    \u001b[0mnewline\u001b[0m\u001b[1;33m=\u001b[0m\u001b[1;34m'\\n'\u001b[0m\u001b[1;33m,\u001b[0m\u001b[1;33m\n",
       "\u001b[0m    \u001b[0mheader\u001b[0m\u001b[1;33m=\u001b[0m\u001b[1;34m''\u001b[0m\u001b[1;33m,\u001b[0m\u001b[1;33m\n",
       "\u001b[0m    \u001b[0mfooter\u001b[0m\u001b[1;33m=\u001b[0m\u001b[1;34m''\u001b[0m\u001b[1;33m,\u001b[0m\u001b[1;33m\n",
       "\u001b[0m    \u001b[0mcomments\u001b[0m\u001b[1;33m=\u001b[0m\u001b[1;34m'# '\u001b[0m\u001b[1;33m,\u001b[0m\u001b[1;33m\n",
       "\u001b[0m    \u001b[0mencoding\u001b[0m\u001b[1;33m=\u001b[0m\u001b[1;32mNone\u001b[0m\u001b[1;33m,\u001b[0m\u001b[1;33m\n",
       "\u001b[0m\u001b[1;33m)\u001b[0m\u001b[1;33m\u001b[0m\u001b[1;33m\u001b[0m\u001b[0m\n",
       "\u001b[1;31mCall signature:\u001b[0m  \u001b[0mnp\u001b[0m\u001b[1;33m.\u001b[0m\u001b[0msavetxt\u001b[0m\u001b[1;33m(\u001b[0m\u001b[1;33m*\u001b[0m\u001b[0margs\u001b[0m\u001b[1;33m,\u001b[0m \u001b[1;33m**\u001b[0m\u001b[0mkwargs\u001b[0m\u001b[1;33m)\u001b[0m\u001b[1;33m\u001b[0m\u001b[1;33m\u001b[0m\u001b[0m\n",
       "\u001b[1;31mType:\u001b[0m            _ArrayFunctionDispatcher\n",
       "\u001b[1;31mString form:\u001b[0m     <function savetxt at 0x00000202BFB26C00>\n",
       "\u001b[1;31mFile:\u001b[0m            c:\\users\\aayush sood\\anaconda3\\lib\\site-packages\\numpy\\lib\\npyio.py\n",
       "\u001b[1;31mDocstring:\u001b[0m      \n",
       "Save an array to a text file.\n",
       "\n",
       "Parameters\n",
       "----------\n",
       "fname : filename or file handle\n",
       "    If the filename ends in ``.gz``, the file is automatically saved in\n",
       "    compressed gzip format.  `loadtxt` understands gzipped files\n",
       "    transparently.\n",
       "X : 1D or 2D array_like\n",
       "    Data to be saved to a text file.\n",
       "fmt : str or sequence of strs, optional\n",
       "    A single format (%10.5f), a sequence of formats, or a\n",
       "    multi-format string, e.g. 'Iteration %d -- %10.5f', in which\n",
       "    case `delimiter` is ignored. For complex `X`, the legal options\n",
       "    for `fmt` are:\n",
       "\n",
       "    * a single specifier, `fmt='%.4e'`, resulting in numbers formatted\n",
       "      like `' (%s+%sj)' % (fmt, fmt)`\n",
       "    * a full string specifying every real and imaginary part, e.g.\n",
       "      `' %.4e %+.4ej %.4e %+.4ej %.4e %+.4ej'` for 3 columns\n",
       "    * a list of specifiers, one per column - in this case, the real\n",
       "      and imaginary part must have separate specifiers,\n",
       "      e.g. `['%.3e + %.3ej', '(%.15e%+.15ej)']` for 2 columns\n",
       "delimiter : str, optional\n",
       "    String or character separating columns.\n",
       "newline : str, optional\n",
       "    String or character separating lines.\n",
       "\n",
       "    .. versionadded:: 1.5.0\n",
       "header : str, optional\n",
       "    String that will be written at the beginning of the file.\n",
       "\n",
       "    .. versionadded:: 1.7.0\n",
       "footer : str, optional\n",
       "    String that will be written at the end of the file.\n",
       "\n",
       "    .. versionadded:: 1.7.0\n",
       "comments : str, optional\n",
       "    String that will be prepended to the ``header`` and ``footer`` strings,\n",
       "    to mark them as comments. Default: '# ',  as expected by e.g.\n",
       "    ``numpy.loadtxt``.\n",
       "\n",
       "    .. versionadded:: 1.7.0\n",
       "encoding : {None, str}, optional\n",
       "    Encoding used to encode the outputfile. Does not apply to output\n",
       "    streams. If the encoding is something other than 'bytes' or 'latin1'\n",
       "    you will not be able to load the file in NumPy versions < 1.14. Default\n",
       "    is 'latin1'.\n",
       "\n",
       "    .. versionadded:: 1.14.0\n",
       "\n",
       "\n",
       "See Also\n",
       "--------\n",
       "save : Save an array to a binary file in NumPy ``.npy`` format\n",
       "savez : Save several arrays into an uncompressed ``.npz`` archive\n",
       "savez_compressed : Save several arrays into a compressed ``.npz`` archive\n",
       "\n",
       "Notes\n",
       "-----\n",
       "Further explanation of the `fmt` parameter\n",
       "(``%[flag]width[.precision]specifier``):\n",
       "\n",
       "flags:\n",
       "    ``-`` : left justify\n",
       "\n",
       "    ``+`` : Forces to precede result with + or -.\n",
       "\n",
       "    ``0`` : Left pad the number with zeros instead of space (see width).\n",
       "\n",
       "width:\n",
       "    Minimum number of characters to be printed. The value is not truncated\n",
       "    if it has more characters.\n",
       "\n",
       "precision:\n",
       "    - For integer specifiers (eg. ``d,i,o,x``), the minimum number of\n",
       "      digits.\n",
       "    - For ``e, E`` and ``f`` specifiers, the number of digits to print\n",
       "      after the decimal point.\n",
       "    - For ``g`` and ``G``, the maximum number of significant digits.\n",
       "    - For ``s``, the maximum number of characters.\n",
       "\n",
       "specifiers:\n",
       "    ``c`` : character\n",
       "\n",
       "    ``d`` or ``i`` : signed decimal integer\n",
       "\n",
       "    ``e`` or ``E`` : scientific notation with ``e`` or ``E``.\n",
       "\n",
       "    ``f`` : decimal floating point\n",
       "\n",
       "    ``g,G`` : use the shorter of ``e,E`` or ``f``\n",
       "\n",
       "    ``o`` : signed octal\n",
       "\n",
       "    ``s`` : string of characters\n",
       "\n",
       "    ``u`` : unsigned decimal integer\n",
       "\n",
       "    ``x,X`` : unsigned hexadecimal integer\n",
       "\n",
       "This explanation of ``fmt`` is not complete, for an exhaustive\n",
       "specification see [1]_.\n",
       "\n",
       "References\n",
       "----------\n",
       ".. [1] `Format Specification Mini-Language\n",
       "       <https://docs.python.org/library/string.html#format-specification-mini-language>`_,\n",
       "       Python Documentation.\n",
       "\n",
       "Examples\n",
       "--------\n",
       ">>> x = y = z = np.arange(0.0,5.0,1.0)\n",
       ">>> np.savetxt('test.out', x, delimiter=',')   # X is an array\n",
       ">>> np.savetxt('test.out', (x,y,z))   # x,y,z equal sized 1D arrays\n",
       ">>> np.savetxt('test.out', x, fmt='%1.4e')   # use exponential notation\n",
       "\u001b[1;31mClass docstring:\u001b[0m\n",
       "Class to wrap functions with checks for __array_function__ overrides.\n",
       "\n",
       "All arguments are required, and can only be passed by position.\n",
       "\n",
       "Parameters\n",
       "----------\n",
       "dispatcher : function or None\n",
       "    The dispatcher function that returns a single sequence-like object\n",
       "    of all arguments relevant.  It must have the same signature (except\n",
       "    the default values) as the actual implementation.\n",
       "    If ``None``, this is a ``like=`` dispatcher and the\n",
       "    ``_ArrayFunctionDispatcher`` must be called with ``like`` as the\n",
       "    first (additional and positional) argument.\n",
       "implementation : function\n",
       "    Function that implements the operation on NumPy arrays without\n",
       "    overrides.  Arguments passed calling the ``_ArrayFunctionDispatcher``\n",
       "    will be forwarded to this (and the ``dispatcher``) as if using\n",
       "    ``*args, **kwargs``.\n",
       "\n",
       "Attributes\n",
       "----------\n",
       "_implementation : function\n",
       "    The original implementation passed in."
      ]
     },
     "metadata": {},
     "output_type": "display_data"
    }
   ],
   "source": [
    "np.savetxt?"
   ]
  },
  {
   "cell_type": "code",
   "execution_count": 30,
   "id": "8fec3d87-4a2b-4e9d-9be3-4ef4980963c1",
   "metadata": {},
   "outputs": [],
   "source": [
    "np.savetxt('climate_results.txt', climate_results , fmt='%.2f' , header=\"temperature,rainfall,humidity,yield_of_apples\" , delimiter = ',' , comments = '')"
   ]
  },
  {
   "cell_type": "markdown",
   "id": "f8e106a7-37d0-46d0-bd8e-33c9c028bbc2",
   "metadata": {},
   "source": [
    "## Arithmetic Operations and Broadcasting"
   ]
  },
  {
   "cell_type": "code",
   "execution_count": 31,
   "id": "4b134014-2f92-4250-9bb5-56f525611f7d",
   "metadata": {},
   "outputs": [],
   "source": [
    "arr1 = np.array([[1,2,3] , [2,5,23] , [123,213,21]])\n",
    "arr2 = np.array([[1,2,3] , [2,5,23] , [123,213,21]])"
   ]
  },
  {
   "cell_type": "code",
   "execution_count": 32,
   "id": "273c4695-7545-49f9-8a32-cad3d1cb707a",
   "metadata": {},
   "outputs": [
    {
     "data": {
      "text/plain": [
       "array([[  2,   4,   6],\n",
       "       [  4,  10,  46],\n",
       "       [246, 426,  42]])"
      ]
     },
     "execution_count": 32,
     "metadata": {},
     "output_type": "execute_result"
    }
   ],
   "source": [
    "arr1 + arr2"
   ]
  },
  {
   "cell_type": "code",
   "execution_count": 33,
   "id": "208eb25d-8f53-4e6c-8fc7-16f79be5c189",
   "metadata": {},
   "outputs": [
    {
     "data": {
      "text/plain": [
       "array([[  4,   5,   6],\n",
       "       [  5,   8,  26],\n",
       "       [126, 216,  24]])"
      ]
     },
     "execution_count": 33,
     "metadata": {},
     "output_type": "execute_result"
    }
   ],
   "source": [
    "arr1 + 3"
   ]
  },
  {
   "cell_type": "code",
   "execution_count": 34,
   "id": "4b0a30dd-67b3-4c19-aca6-79a5d29233c9",
   "metadata": {},
   "outputs": [
    {
     "data": {
      "text/plain": [
       "array([[0, 0, 0],\n",
       "       [0, 0, 0],\n",
       "       [0, 0, 0]])"
      ]
     },
     "execution_count": 34,
     "metadata": {},
     "output_type": "execute_result"
    }
   ],
   "source": [
    "arr1 - arr2"
   ]
  },
  {
   "cell_type": "code",
   "execution_count": 35,
   "id": "02767190-2b3a-4277-8983-e2350fda778b",
   "metadata": {},
   "outputs": [
    {
     "data": {
      "text/plain": [
       "array([[  0.5,   1. ,   1.5],\n",
       "       [  1. ,   2.5,  11.5],\n",
       "       [ 61.5, 106.5,  10.5]])"
      ]
     },
     "execution_count": 35,
     "metadata": {},
     "output_type": "execute_result"
    }
   ],
   "source": [
    "arr1 / 2"
   ]
  },
  {
   "cell_type": "code",
   "execution_count": 36,
   "id": "bc31d18d-ec75-4426-831c-f7ef0220e9de",
   "metadata": {},
   "outputs": [
    {
     "data": {
      "text/plain": [
       "array([[    1,     4,     9],\n",
       "       [    4,    25,   529],\n",
       "       [15129, 45369,   441]])"
      ]
     },
     "execution_count": 36,
     "metadata": {},
     "output_type": "execute_result"
    }
   ],
   "source": [
    "arr1 * arr2"
   ]
  },
  {
   "cell_type": "code",
   "execution_count": 37,
   "id": "15f6db4b-4eb2-4e7d-87f2-dc4d8a20e265",
   "metadata": {},
   "outputs": [
    {
     "data": {
      "text/plain": [
       "array([[1, 2, 3],\n",
       "       [2, 5, 5],\n",
       "       [3, 3, 3]], dtype=int32)"
      ]
     },
     "execution_count": 37,
     "metadata": {},
     "output_type": "execute_result"
    }
   ],
   "source": [
    "arr1 % 6"
   ]
  },
  {
   "cell_type": "markdown",
   "id": "9ba37f9a-6e62-4184-b40a-39a560ddcf32",
   "metadata": {},
   "source": [
    "#### Broadcasting: Replicating of smaller array to make operations possible"
   ]
  },
  {
   "cell_type": "code",
   "execution_count": 38,
   "id": "ceab67d4-821f-4847-8e9d-ca148a161fa1",
   "metadata": {},
   "outputs": [],
   "source": [
    "arr1 = np.array([[1,2,3,4] , [1,2,3,4] , [1,2,3,4]])\n",
    "arr2 = np.array([1,2,3,4])"
   ]
  },
  {
   "cell_type": "code",
   "execution_count": 39,
   "id": "2bc6e3cf-04e8-486a-9ad2-296b461a1450",
   "metadata": {},
   "outputs": [
    {
     "data": {
      "text/plain": [
       "(3, 4)"
      ]
     },
     "execution_count": 39,
     "metadata": {},
     "output_type": "execute_result"
    }
   ],
   "source": [
    "arr1.shape"
   ]
  },
  {
   "cell_type": "code",
   "execution_count": 40,
   "id": "764dc0fd-c7e1-4c6c-bde4-4781f6189d95",
   "metadata": {},
   "outputs": [
    {
     "data": {
      "text/plain": [
       "(4,)"
      ]
     },
     "execution_count": 40,
     "metadata": {},
     "output_type": "execute_result"
    }
   ],
   "source": [
    "arr2.shape"
   ]
  },
  {
   "cell_type": "code",
   "execution_count": 41,
   "id": "fcb1d646-b81f-4626-b4ac-9e3254a893fb",
   "metadata": {},
   "outputs": [
    {
     "data": {
      "text/plain": [
       "array([[2, 4, 6, 8],\n",
       "       [2, 4, 6, 8],\n",
       "       [2, 4, 6, 8]])"
      ]
     },
     "execution_count": 41,
     "metadata": {},
     "output_type": "execute_result"
    }
   ],
   "source": [
    "arr1 + arr2"
   ]
  },
  {
   "cell_type": "markdown",
   "id": "a606331b-d50c-4fcd-8342-8e11afafafa2",
   "metadata": {},
   "source": [
    "## Comparison Operations"
   ]
  },
  {
   "cell_type": "code",
   "execution_count": 42,
   "id": "2e1fdc32-61e5-4efc-b9cf-f630bd651b4a",
   "metadata": {},
   "outputs": [],
   "source": [
    "arr1 = np.array([[1,2,3] , [1,2,3]])\n",
    "arr2 = np.array([[1,2,3] , [1,2,3]])"
   ]
  },
  {
   "cell_type": "code",
   "execution_count": 43,
   "id": "68efee24-bdfb-47b6-99b3-7106f50886fd",
   "metadata": {},
   "outputs": [
    {
     "data": {
      "text/plain": [
       "array([[ True,  True,  True],\n",
       "       [ True,  True,  True]])"
      ]
     },
     "execution_count": 43,
     "metadata": {},
     "output_type": "execute_result"
    }
   ],
   "source": [
    "arr1 == arr2"
   ]
  },
  {
   "cell_type": "code",
   "execution_count": 44,
   "id": "8002bbda-3277-483e-8d50-3127be4a8143",
   "metadata": {},
   "outputs": [
    {
     "data": {
      "text/plain": [
       "array([[False, False, False],\n",
       "       [False, False, False]])"
      ]
     },
     "execution_count": 44,
     "metadata": {},
     "output_type": "execute_result"
    }
   ],
   "source": [
    "arr1 < arr2"
   ]
  },
  {
   "cell_type": "code",
   "execution_count": 45,
   "id": "91e4a174-ec08-4f16-a046-96f64d342440",
   "metadata": {},
   "outputs": [
    {
     "data": {
      "text/plain": [
       "array([[False, False, False],\n",
       "       [False, False, False]])"
      ]
     },
     "execution_count": 45,
     "metadata": {},
     "output_type": "execute_result"
    }
   ],
   "source": [
    "arr1 > arr2"
   ]
  },
  {
   "cell_type": "markdown",
   "id": "9a3ad5fc-ce46-4485-b752-9d83b86a0714",
   "metadata": {},
   "source": [
    "## Array Indexing and Slicing"
   ]
  },
  {
   "cell_type": "code",
   "execution_count": 46,
   "id": "3cd8b5ee-9589-4780-9e82-0d5c61fb6513",
   "metadata": {},
   "outputs": [],
   "source": [
    "arr1 = np.array([[[1 , 2 , 3 , 4] , [1 , 2 , 3 , 4] ,[1 , 2 , 3 , 4] ,] , [[1 , 2 , 3 , 4] ,[1 , 2 , 3 , 4] ,[1 , 2 , 3 , 4] ,] , [[1 , 2 , 3 , 4] ,[1 , 2 , 3 , 4] ,[1 , 2 , 3 , 4] ,]])"
   ]
  },
  {
   "cell_type": "code",
   "execution_count": 47,
   "id": "2d737b77-7c37-4699-9adf-4d953909eb2e",
   "metadata": {},
   "outputs": [
    {
     "data": {
      "text/plain": [
       "(3, 3, 4)"
      ]
     },
     "execution_count": 47,
     "metadata": {},
     "output_type": "execute_result"
    }
   ],
   "source": [
    "arr1.shape"
   ]
  },
  {
   "cell_type": "code",
   "execution_count": 48,
   "id": "217ec541-1ca4-462e-9655-76dee7b0fd84",
   "metadata": {},
   "outputs": [
    {
     "data": {
      "text/plain": [
       "4"
      ]
     },
     "execution_count": 48,
     "metadata": {},
     "output_type": "execute_result"
    }
   ],
   "source": [
    "arr1[1,2,3] # single element"
   ]
  },
  {
   "cell_type": "code",
   "execution_count": 49,
   "id": "20d71070-ecbe-4e54-8163-3fdb3a5d47c3",
   "metadata": {},
   "outputs": [
    {
     "data": {
      "text/plain": [
       "array([[[3, 4]],\n",
       "\n",
       "       [[3, 4]]])"
      ]
     },
     "execution_count": 49,
     "metadata": {},
     "output_type": "execute_result"
    }
   ],
   "source": [
    "arr1[1: , 0:1 , 2:]"
   ]
  },
  {
   "cell_type": "code",
   "execution_count": 50,
   "id": "32d3da50-3722-497a-9521-e1953e8d243f",
   "metadata": {},
   "outputs": [
    {
     "data": {
      "text/plain": [
       "array([4, 4])"
      ]
     },
     "execution_count": 50,
     "metadata": {},
     "output_type": "execute_result"
    }
   ],
   "source": [
    "arr1[1: , 1 , 3]"
   ]
  },
  {
   "cell_type": "markdown",
   "id": "830e39f2-aa3a-462f-ab8c-9779b22b7bac",
   "metadata": {},
   "source": [
    "## Other ways of creating numpy arrays"
   ]
  },
  {
   "cell_type": "code",
   "execution_count": 51,
   "id": "5ce442de-df5e-44fd-89e1-ccddd3b7ebb2",
   "metadata": {},
   "outputs": [
    {
     "data": {
      "text/plain": [
       "array([[0., 0.],\n",
       "       [0., 0.],\n",
       "       [0., 0.]])"
      ]
     },
     "execution_count": 51,
     "metadata": {},
     "output_type": "execute_result"
    }
   ],
   "source": [
    "np.zeros((3,2))"
   ]
  },
  {
   "cell_type": "code",
   "execution_count": 52,
   "id": "74fe0ad9-dcbc-47b6-9d5b-1d98557e8f96",
   "metadata": {},
   "outputs": [
    {
     "data": {
      "text/plain": [
       "array([[1., 1., 1.],\n",
       "       [1., 1., 1.],\n",
       "       [1., 1., 1.]])"
      ]
     },
     "execution_count": 52,
     "metadata": {},
     "output_type": "execute_result"
    }
   ],
   "source": [
    "np.ones((3,3))"
   ]
  },
  {
   "cell_type": "code",
   "execution_count": 53,
   "id": "c177de07-8156-49e4-aa7d-fce8dcfe03f1",
   "metadata": {},
   "outputs": [
    {
     "data": {
      "text/plain": [
       "array([[1., 0., 0., 0.],\n",
       "       [0., 1., 0., 0.],\n",
       "       [0., 0., 1., 0.],\n",
       "       [0., 0., 0., 1.]])"
      ]
     },
     "execution_count": 53,
     "metadata": {},
     "output_type": "execute_result"
    }
   ],
   "source": [
    "np.eye(4)"
   ]
  },
  {
   "cell_type": "code",
   "execution_count": 54,
   "id": "014dc8f9-d6e2-48e8-b295-4848329a16d7",
   "metadata": {},
   "outputs": [
    {
     "data": {
      "text/plain": [
       "array([[0.91745387, 0.68362065, 0.44740537],\n",
       "       [0.67486037, 0.73353917, 0.15186164]])"
      ]
     },
     "execution_count": 54,
     "metadata": {},
     "output_type": "execute_result"
    }
   ],
   "source": [
    "np.random.rand(2,3)"
   ]
  },
  {
   "cell_type": "code",
   "execution_count": 55,
   "id": "7e89bc02-8140-424a-8483-9a516e32c71b",
   "metadata": {},
   "outputs": [
    {
     "data": {
      "text/plain": [
       "array([[20, 20, 20],\n",
       "       [20, 20, 20]])"
      ]
     },
     "execution_count": 55,
     "metadata": {},
     "output_type": "execute_result"
    }
   ],
   "source": [
    "np.full((2,3) , 20)"
   ]
  },
  {
   "cell_type": "code",
   "execution_count": 56,
   "id": "af0b2585-3d36-4a3a-93f4-04920a6e1f04",
   "metadata": {},
   "outputs": [
    {
     "data": {
      "text/plain": [
       "array([10, 13, 16, 19, 22, 25, 28, 31, 34, 37, 40, 43, 46, 49, 52, 55, 58,\n",
       "       61, 64, 67, 70, 73, 76, 79, 82, 85, 88])"
      ]
     },
     "execution_count": 56,
     "metadata": {},
     "output_type": "execute_result"
    }
   ],
   "source": [
    "np.arange(10,90,3) # from 10 to 90 with a diff of 3"
   ]
  },
  {
   "cell_type": "code",
   "execution_count": 57,
   "id": "be544b7f-22a6-424a-9d2b-521bb159ffb4",
   "metadata": {},
   "outputs": [
    {
     "data": {
      "text/plain": [
       "array([10.        , 12.75862069, 15.51724138, 18.27586207, 21.03448276,\n",
       "       23.79310345, 26.55172414, 29.31034483, 32.06896552, 34.82758621,\n",
       "       37.5862069 , 40.34482759, 43.10344828, 45.86206897, 48.62068966,\n",
       "       51.37931034, 54.13793103, 56.89655172, 59.65517241, 62.4137931 ,\n",
       "       65.17241379, 67.93103448, 70.68965517, 73.44827586, 76.20689655,\n",
       "       78.96551724, 81.72413793, 84.48275862, 87.24137931, 90.        ])"
      ]
     },
     "execution_count": 57,
     "metadata": {},
     "output_type": "execute_result"
    }
   ],
   "source": [
    "np.linspace(10,90,30) # 30 divisions from 10 to 90"
   ]
  },
  {
   "cell_type": "code",
   "execution_count": null,
   "id": "53283584-697c-4057-bd91-83f8862d5622",
   "metadata": {},
   "outputs": [],
   "source": []
  }
 ],
 "metadata": {
  "kernelspec": {
   "display_name": "Python 3 (ipykernel)",
   "language": "python",
   "name": "python3"
  },
  "language_info": {
   "codemirror_mode": {
    "name": "ipython",
    "version": 3
   },
   "file_extension": ".py",
   "mimetype": "text/x-python",
   "name": "python",
   "nbconvert_exporter": "python",
   "pygments_lexer": "ipython3",
   "version": "3.12.7"
  }
 },
 "nbformat": 4,
 "nbformat_minor": 5
}
